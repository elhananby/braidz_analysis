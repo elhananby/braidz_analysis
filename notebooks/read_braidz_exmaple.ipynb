{
 "cells": [
  {
   "cell_type": "code",
   "execution_count": 1,
   "metadata": {},
   "outputs": [],
   "source": [
    "from braidz_analysis import braidz\n",
    "import time\n",
    "import os"
   ]
  },
  {
   "cell_type": "code",
   "execution_count": 2,
   "metadata": {},
   "outputs": [
    {
     "name": "stdout",
     "output_type": "stream",
     "text": [
      "Processing file 1/2: /gpfs/soma_fs/nfc/nfc3008/Experiments/20220204_141658.braidz\n"
     ]
    },
    {
     "name": "stderr",
     "output_type": "stream",
     "text": [
      "PyArrow parsing failed: Empty CSV file:<zipfile.ZipExtFile name='experiment_info.csv' mode='r'>, falling back to pandas\n",
      "Empty CSV file <zipfile.ZipExtFile name='experiment_info.csv' mode='r'> encountered\n"
     ]
    },
    {
     "name": "stdout",
     "output_type": "stream",
     "text": [
      "Processing file 2/2: /gpfs/soma_fs/nfc/nfc3008/Experiments/20220204_181211.braidz\n"
     ]
    },
    {
     "name": "stderr",
     "output_type": "stream",
     "text": [
      "PyArrow parsing failed: Empty CSV file:<zipfile.ZipExtFile name='experiment_info.csv' mode='r'>, falling back to pandas\n",
      "Empty CSV file <zipfile.ZipExtFile name='experiment_info.csv' mode='r'> encountered\n"
     ]
    },
    {
     "name": "stdout",
     "output_type": "stream",
     "text": [
      "Time to read multiple files using pyarrow: 28.870835065841675\n"
     ]
    }
   ],
   "source": [
    "root_folder = \"/gpfs/soma_fs/nfc/nfc3008/Experiments/\"\n",
    "exp_list = [\n",
    "    \"20220204_141658.braidz\",\n",
    "    \"20220204_181211.braidz\"\n",
    "]\n",
    "\n",
    "# # Basic usage - will use pyarrow if available, otherwise pandas\n",
    "# # This requires the FULLPATH of the file - thus `os.path.join(root_folder, exp_list[0])`\n",
    "# start_time = time.time()\n",
    "# data = braidz.read_braidz_file(os.path.join(root_folder, exp_list[0]))\n",
    "# print(f\"Time to read using pyarrow: {time.time() - start_time}\")\n",
    "\n",
    "# # Explicitly specify parser\n",
    "# # Similar to above, but explicitly specify the parser to use\n",
    "# start_time = time.time()\n",
    "# data = braidz.read_braidz_file(os.path.join(root_folder, exp_list[0]), parser=\"pandas\")\n",
    "# print(f\"Time to read using pandas: {time.time() - start_time}\")\n",
    "\n",
    "# Multiple files with specific parser\n",
    "# The root_folder is prepended to each file in the exp_list inside the function\n",
    "combined_data = braidz.read_multiple_braidz(\n",
    "    exp_list,\n",
    "    root_folder=root_folder,\n",
    "    parser=\"pyarrow\"\n",
    ")\n"
   ]
  },
  {
   "cell_type": "markdown",
   "metadata": {},
   "source": [
    "# Understanding the Data Structure\n",
    "\n",
    "The `combined_data` dictionary contains structured data from braidz files with several key components:\n",
    "\n",
    "## Key Components\n",
    "- `df`: Contains the main `kalman_estimates` data (always present)\n",
    "- `stim`: Contains stimulus-related data (if present)\n",
    "- `opto`: Contains optogenetics data (if present)\n",
    "\n",
    "Example of checking available keys:\n",
    "```\n",
    "print(f\"Available data keys: {list(combined_data.keys())}\")\n",
    "```\n",
    "\n",
    "## Data Structure\n",
    "The main DataFrame (`combined_data['df']`) contains various measurements and tracking data. You can examine its structure:\n",
    "\n",
    "```\n",
    "# View all columns in the main DataFrame\n",
    "columns = combined_data['df'].columns\n",
    "print(\"Available columns:\", columns.tolist())\n",
    "```\n",
    "\n",
    "## Working with Groups\n",
    "\n",
    "The data is organized hierarchically using two main identifiers:\n",
    "- `obj_id`: Unique identifier for each tracked object (can be the same across different experiments)\n",
    "- `exp_num`: Experiment number for different recording sessions\n",
    "\n",
    "### Grouping Patterns\n",
    "\n",
    "1. Group by object:\n",
    "```\n",
    "object_groups = combined_data['df'].groupby('obj_id')\n",
    "```\n",
    "\n",
    "2. Group by experiment:\n",
    "```\n",
    "experiment_groups = combined_data['df'].groupby('exp_num')\n",
    "```\n",
    "\n",
    "3. Group by both (most common use case):\n",
    "```\n",
    "# This creates groups for each unique object within each experiment\n",
    "obj_exp_groups = combined_data['df'].groupby(['obj_id', 'exp_num'])\n",
    "```"
   ]
  },
  {
   "cell_type": "code",
   "execution_count": null,
   "metadata": {},
   "outputs": [],
   "source": []
  }
 ],
 "metadata": {
  "kernelspec": {
   "display_name": ".venv",
   "language": "python",
   "name": "python3"
  },
  "language_info": {
   "codemirror_mode": {
    "name": "ipython",
    "version": 3
   },
   "file_extension": ".py",
   "mimetype": "text/x-python",
   "name": "python",
   "nbconvert_exporter": "python",
   "pygments_lexer": "ipython3",
   "version": "3.10.15"
  }
 },
 "nbformat": 4,
 "nbformat_minor": 2
}
