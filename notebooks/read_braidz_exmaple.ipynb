{
 "cells": [
  {
   "cell_type": "code",
   "execution_count": 1,
   "metadata": {},
   "outputs": [
    {
     "name": "stderr",
     "output_type": "stream",
     "text": [
      "2024-12-17 14:13:00,261 [INFO] \n",
      "Limited Linear Model Support Detected! \n",
      "---> PYCHEBFUN is not installed. \n",
      "---> Install pychebfun to use chebfun derivatives (https://github.com/pychebfun/pychebfun/) \n",
      "You can still use other methods \n",
      "\n"
     ]
    }
   ],
   "source": []
  },
  {
   "cell_type": "code",
   "execution_count": 3,
   "metadata": {},
   "outputs": [],
   "source": [
    "root_folder = \"/home/buchsbaum/mnt/nfc3008/md0/Experiments\""
   ]
  },
  {
   "cell_type": "markdown",
   "metadata": {},
   "source": [
    "# Understanding the Data Structure\n",
    "\n",
    "The `combined_data` dictionary contains structured data from braidz files with several key components:\n",
    "\n",
    "## Key Components\n",
    "- `df`: Contains the main `kalman_estimates` data (always present)\n",
    "- `stim`: Contains stimulus-related data (if present)\n",
    "- `opto`: Contains optogenetics data (if present)\n",
    "\n",
    "Example of checking available keys:\n",
    "```\n",
    "print(f\"Available data keys: {list(combined_data.keys())}\")\n",
    "```\n",
    "\n",
    "## Data Structure\n",
    "The main DataFrame (`combined_data['df']`) contains various measurements and tracking data. You can examine its structure:\n",
    "\n",
    "```\n",
    "# View all columns in the main DataFrame\n",
    "columns = combined_data['df'].columns\n",
    "print(\"Available columns:\", columns.tolist())\n",
    "```\n",
    "\n",
    "## Working with Groups\n",
    "\n",
    "The data is organized hierarchically using two main identifiers:\n",
    "- `obj_id`: Unique identifier for each tracked object (can be the same across different experiments)\n",
    "- `exp_num`: Experiment number for different recording sessions\n",
    "\n",
    "### Grouping Patterns\n",
    "\n",
    "1. Group by object:\n",
    "```\n",
    "object_groups = combined_data['df'].groupby('obj_id')\n",
    "```\n",
    "\n",
    "2. Group by experiment:\n",
    "```\n",
    "experiment_groups = combined_data['df'].groupby('exp_num')\n",
    "```\n",
    "\n",
    "3. Group by both (most common use case):\n",
    "```\n",
    "# This creates groups for each unique object within each experiment\n",
    "obj_exp_groups = combined_data['df'].groupby(['obj_id', 'exp_num'])\n",
    "```"
   ]
  },
  {
   "cell_type": "code",
   "execution_count": null,
   "metadata": {},
   "outputs": [],
   "source": []
  }
 ],
 "metadata": {
  "kernelspec": {
   "display_name": ".venv",
   "language": "python",
   "name": "python3"
  },
  "language_info": {
   "codemirror_mode": {
    "name": "ipython",
    "version": 3
   },
   "file_extension": ".py",
   "mimetype": "text/x-python",
   "name": "python",
   "nbconvert_exporter": "python",
   "pygments_lexer": "ipython3",
   "version": "3.10.0"
  }
 },
 "nbformat": 4,
 "nbformat_minor": 2
}
